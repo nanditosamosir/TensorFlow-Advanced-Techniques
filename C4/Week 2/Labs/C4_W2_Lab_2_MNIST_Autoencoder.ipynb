{
  "nbformat": 4,
  "nbformat_minor": 0,
  "metadata": {
    "colab": {
      "provenance": []
    },
    "kernelspec": {
      "name": "python3",
      "display_name": "Python 3"
    },
    "language_info": {
      "name": "python"
    },
    "widgets": {
      "application/vnd.jupyter.widget-state+json": {
        "6bdca97f1beb4c08b1a61bd59d2b9797": {
          "model_module": "@jupyter-widgets/controls",
          "model_name": "HBoxModel",
          "model_module_version": "1.5.0",
          "state": {
            "_dom_classes": [],
            "_model_module": "@jupyter-widgets/controls",
            "_model_module_version": "1.5.0",
            "_model_name": "HBoxModel",
            "_view_count": null,
            "_view_module": "@jupyter-widgets/controls",
            "_view_module_version": "1.5.0",
            "_view_name": "HBoxView",
            "box_style": "",
            "children": [
              "IPY_MODEL_87c37d29a50847d08ec704808bd984b3",
              "IPY_MODEL_9dc56d3c46634cf5a923e47b59b7d952",
              "IPY_MODEL_8940a4f7de304b3685405ca2192b1e65"
            ],
            "layout": "IPY_MODEL_e67de4975c4846c7b819f391f3dff5bc"
          }
        },
        "87c37d29a50847d08ec704808bd984b3": {
          "model_module": "@jupyter-widgets/controls",
          "model_name": "HTMLModel",
          "model_module_version": "1.5.0",
          "state": {
            "_dom_classes": [],
            "_model_module": "@jupyter-widgets/controls",
            "_model_module_version": "1.5.0",
            "_model_name": "HTMLModel",
            "_view_count": null,
            "_view_module": "@jupyter-widgets/controls",
            "_view_module_version": "1.5.0",
            "_view_name": "HTMLView",
            "description": "",
            "description_tooltip": null,
            "layout": "IPY_MODEL_9dc691ead94244ebbabf89022f790317",
            "placeholder": "​",
            "style": "IPY_MODEL_f10fd8d9516d45f89ec4b5f1231507b8",
            "value": "Dl Completed...: 100%"
          }
        },
        "9dc56d3c46634cf5a923e47b59b7d952": {
          "model_module": "@jupyter-widgets/controls",
          "model_name": "FloatProgressModel",
          "model_module_version": "1.5.0",
          "state": {
            "_dom_classes": [],
            "_model_module": "@jupyter-widgets/controls",
            "_model_module_version": "1.5.0",
            "_model_name": "FloatProgressModel",
            "_view_count": null,
            "_view_module": "@jupyter-widgets/controls",
            "_view_module_version": "1.5.0",
            "_view_name": "ProgressView",
            "bar_style": "success",
            "description": "",
            "description_tooltip": null,
            "layout": "IPY_MODEL_fa3581c02ab64f0b827d0455fd747b0e",
            "max": 5,
            "min": 0,
            "orientation": "horizontal",
            "style": "IPY_MODEL_b41d58f010294f8d9b9808807b285ce1",
            "value": 5
          }
        },
        "8940a4f7de304b3685405ca2192b1e65": {
          "model_module": "@jupyter-widgets/controls",
          "model_name": "HTMLModel",
          "model_module_version": "1.5.0",
          "state": {
            "_dom_classes": [],
            "_model_module": "@jupyter-widgets/controls",
            "_model_module_version": "1.5.0",
            "_model_name": "HTMLModel",
            "_view_count": null,
            "_view_module": "@jupyter-widgets/controls",
            "_view_module_version": "1.5.0",
            "_view_name": "HTMLView",
            "description": "",
            "description_tooltip": null,
            "layout": "IPY_MODEL_cdd9eaf0503a4d989ffda223e6de82a0",
            "placeholder": "​",
            "style": "IPY_MODEL_9441feb2ab1c4640bc3494609f4817c8",
            "value": " 5/5 [00:00&lt;00:00,  9.52 file/s]"
          }
        },
        "e67de4975c4846c7b819f391f3dff5bc": {
          "model_module": "@jupyter-widgets/base",
          "model_name": "LayoutModel",
          "model_module_version": "1.2.0",
          "state": {
            "_model_module": "@jupyter-widgets/base",
            "_model_module_version": "1.2.0",
            "_model_name": "LayoutModel",
            "_view_count": null,
            "_view_module": "@jupyter-widgets/base",
            "_view_module_version": "1.2.0",
            "_view_name": "LayoutView",
            "align_content": null,
            "align_items": null,
            "align_self": null,
            "border": null,
            "bottom": null,
            "display": null,
            "flex": null,
            "flex_flow": null,
            "grid_area": null,
            "grid_auto_columns": null,
            "grid_auto_flow": null,
            "grid_auto_rows": null,
            "grid_column": null,
            "grid_gap": null,
            "grid_row": null,
            "grid_template_areas": null,
            "grid_template_columns": null,
            "grid_template_rows": null,
            "height": null,
            "justify_content": null,
            "justify_items": null,
            "left": null,
            "margin": null,
            "max_height": null,
            "max_width": null,
            "min_height": null,
            "min_width": null,
            "object_fit": null,
            "object_position": null,
            "order": null,
            "overflow": null,
            "overflow_x": null,
            "overflow_y": null,
            "padding": null,
            "right": null,
            "top": null,
            "visibility": null,
            "width": null
          }
        },
        "9dc691ead94244ebbabf89022f790317": {
          "model_module": "@jupyter-widgets/base",
          "model_name": "LayoutModel",
          "model_module_version": "1.2.0",
          "state": {
            "_model_module": "@jupyter-widgets/base",
            "_model_module_version": "1.2.0",
            "_model_name": "LayoutModel",
            "_view_count": null,
            "_view_module": "@jupyter-widgets/base",
            "_view_module_version": "1.2.0",
            "_view_name": "LayoutView",
            "align_content": null,
            "align_items": null,
            "align_self": null,
            "border": null,
            "bottom": null,
            "display": null,
            "flex": null,
            "flex_flow": null,
            "grid_area": null,
            "grid_auto_columns": null,
            "grid_auto_flow": null,
            "grid_auto_rows": null,
            "grid_column": null,
            "grid_gap": null,
            "grid_row": null,
            "grid_template_areas": null,
            "grid_template_columns": null,
            "grid_template_rows": null,
            "height": null,
            "justify_content": null,
            "justify_items": null,
            "left": null,
            "margin": null,
            "max_height": null,
            "max_width": null,
            "min_height": null,
            "min_width": null,
            "object_fit": null,
            "object_position": null,
            "order": null,
            "overflow": null,
            "overflow_x": null,
            "overflow_y": null,
            "padding": null,
            "right": null,
            "top": null,
            "visibility": null,
            "width": null
          }
        },
        "f10fd8d9516d45f89ec4b5f1231507b8": {
          "model_module": "@jupyter-widgets/controls",
          "model_name": "DescriptionStyleModel",
          "model_module_version": "1.5.0",
          "state": {
            "_model_module": "@jupyter-widgets/controls",
            "_model_module_version": "1.5.0",
            "_model_name": "DescriptionStyleModel",
            "_view_count": null,
            "_view_module": "@jupyter-widgets/base",
            "_view_module_version": "1.2.0",
            "_view_name": "StyleView",
            "description_width": ""
          }
        },
        "fa3581c02ab64f0b827d0455fd747b0e": {
          "model_module": "@jupyter-widgets/base",
          "model_name": "LayoutModel",
          "model_module_version": "1.2.0",
          "state": {
            "_model_module": "@jupyter-widgets/base",
            "_model_module_version": "1.2.0",
            "_model_name": "LayoutModel",
            "_view_count": null,
            "_view_module": "@jupyter-widgets/base",
            "_view_module_version": "1.2.0",
            "_view_name": "LayoutView",
            "align_content": null,
            "align_items": null,
            "align_self": null,
            "border": null,
            "bottom": null,
            "display": null,
            "flex": null,
            "flex_flow": null,
            "grid_area": null,
            "grid_auto_columns": null,
            "grid_auto_flow": null,
            "grid_auto_rows": null,
            "grid_column": null,
            "grid_gap": null,
            "grid_row": null,
            "grid_template_areas": null,
            "grid_template_columns": null,
            "grid_template_rows": null,
            "height": null,
            "justify_content": null,
            "justify_items": null,
            "left": null,
            "margin": null,
            "max_height": null,
            "max_width": null,
            "min_height": null,
            "min_width": null,
            "object_fit": null,
            "object_position": null,
            "order": null,
            "overflow": null,
            "overflow_x": null,
            "overflow_y": null,
            "padding": null,
            "right": null,
            "top": null,
            "visibility": null,
            "width": null
          }
        },
        "b41d58f010294f8d9b9808807b285ce1": {
          "model_module": "@jupyter-widgets/controls",
          "model_name": "ProgressStyleModel",
          "model_module_version": "1.5.0",
          "state": {
            "_model_module": "@jupyter-widgets/controls",
            "_model_module_version": "1.5.0",
            "_model_name": "ProgressStyleModel",
            "_view_count": null,
            "_view_module": "@jupyter-widgets/base",
            "_view_module_version": "1.2.0",
            "_view_name": "StyleView",
            "bar_color": null,
            "description_width": ""
          }
        },
        "cdd9eaf0503a4d989ffda223e6de82a0": {
          "model_module": "@jupyter-widgets/base",
          "model_name": "LayoutModel",
          "model_module_version": "1.2.0",
          "state": {
            "_model_module": "@jupyter-widgets/base",
            "_model_module_version": "1.2.0",
            "_model_name": "LayoutModel",
            "_view_count": null,
            "_view_module": "@jupyter-widgets/base",
            "_view_module_version": "1.2.0",
            "_view_name": "LayoutView",
            "align_content": null,
            "align_items": null,
            "align_self": null,
            "border": null,
            "bottom": null,
            "display": null,
            "flex": null,
            "flex_flow": null,
            "grid_area": null,
            "grid_auto_columns": null,
            "grid_auto_flow": null,
            "grid_auto_rows": null,
            "grid_column": null,
            "grid_gap": null,
            "grid_row": null,
            "grid_template_areas": null,
            "grid_template_columns": null,
            "grid_template_rows": null,
            "height": null,
            "justify_content": null,
            "justify_items": null,
            "left": null,
            "margin": null,
            "max_height": null,
            "max_width": null,
            "min_height": null,
            "min_width": null,
            "object_fit": null,
            "object_position": null,
            "order": null,
            "overflow": null,
            "overflow_x": null,
            "overflow_y": null,
            "padding": null,
            "right": null,
            "top": null,
            "visibility": null,
            "width": null
          }
        },
        "9441feb2ab1c4640bc3494609f4817c8": {
          "model_module": "@jupyter-widgets/controls",
          "model_name": "DescriptionStyleModel",
          "model_module_version": "1.5.0",
          "state": {
            "_model_module": "@jupyter-widgets/controls",
            "_model_module_version": "1.5.0",
            "_model_name": "DescriptionStyleModel",
            "_view_count": null,
            "_view_module": "@jupyter-widgets/base",
            "_view_module_version": "1.2.0",
            "_view_name": "StyleView",
            "description_width": ""
          }
        }
      }
    }
  },
  "cells": [
    {
      "cell_type": "markdown",
      "source": [
        "## Ungraded Lab: MNIST Autoencoder\n",
        "\n",
        "You will now work on an autoencoder that works on the [MNIST dataset](https://www.tensorflow.org/datasets/catalog/mnist). This will encode the inputs to lower resolution images. The decoder should then be able to generate the original input from this compressed representation."
      ],
      "metadata": {
        "id": "uxbgaedG1jJG"
      }
    },
    {
      "cell_type": "markdown",
      "source": [
        "## Imports"
      ],
      "metadata": {
        "id": "_mXnoPpo1jxn"
      }
    },
    {
      "cell_type": "code",
      "execution_count": 1,
      "metadata": {
        "colab": {
          "base_uri": "https://localhost:8080/"
        },
        "id": "fYOyDTqK1fvw",
        "outputId": "46ba34bc-a382-412b-934c-21a556cdedba"
      },
      "outputs": [
        {
          "output_type": "stream",
          "name": "stdout",
          "text": [
            "Colab only includes TensorFlow 2.x; %tensorflow_version has no effect.\n"
          ]
        }
      ],
      "source": [
        "try:\n",
        "  # %tensorflow_version only exists in Colab.\n",
        "  %tensorflow_version 2.x\n",
        "except Exception:\n",
        "  pass\n",
        "\n",
        "import tensorflow as tf\n",
        "import tensorflow_datasets as tfds\n",
        "\n",
        "import numpy as np\n",
        "import matplotlib.pyplot as plt"
      ]
    },
    {
      "cell_type": "markdown",
      "source": [
        "## Prepare the Dataset\n",
        "\n",
        "You will load the MNIST data from TFDS into train and test sets. Let's first define a preprocessing function for normalizing and flattening the images. Since we'll be training an autoencoder, this will return `image, image` because the input will also be the target or label while training.\n"
      ],
      "metadata": {
        "id": "pLu15hXF1nwW"
      }
    },
    {
      "cell_type": "code",
      "source": [
        "def map_image(image, label):\n",
        "  '''Normalizes and flattens the image. Returns image as input and label.'''\n",
        "  image = tf.cast(image, dtype=tf.float32)\n",
        "  image = image / 255.0\n",
        "  image = tf.reshape(image, shape=(784,))\n",
        "\n",
        "  return image, image"
      ],
      "metadata": {
        "id": "X0CUCmjX1lLO"
      },
      "execution_count": 2,
      "outputs": []
    },
    {
      "cell_type": "code",
      "source": [
        "# Load the train and test sets from TFDS\n",
        "\n",
        "BATCH_SIZE = 128\n",
        "SHUFFLE_BUFFER_SIZE = 1024\n",
        "\n",
        "train_dataset = tfds.load('mnist', as_supervised=True, split=\"train\")\n",
        "train_dataset = train_dataset.map(map_image)\n",
        "train_dataset = train_dataset.shuffle(SHUFFLE_BUFFER_SIZE).batch(BATCH_SIZE).repeat()\n",
        "\n",
        "test_dataset = tfds.load('mnist', as_supervised=True, split=\"test\")\n",
        "test_dataset = test_dataset.map(map_image)\n",
        "test_dataset = test_dataset.batch(BATCH_SIZE).repeat()"
      ],
      "metadata": {
        "colab": {
          "base_uri": "https://localhost:8080/",
          "height": 104,
          "referenced_widgets": [
            "6bdca97f1beb4c08b1a61bd59d2b9797",
            "87c37d29a50847d08ec704808bd984b3",
            "9dc56d3c46634cf5a923e47b59b7d952",
            "8940a4f7de304b3685405ca2192b1e65",
            "e67de4975c4846c7b819f391f3dff5bc",
            "9dc691ead94244ebbabf89022f790317",
            "f10fd8d9516d45f89ec4b5f1231507b8",
            "fa3581c02ab64f0b827d0455fd747b0e",
            "b41d58f010294f8d9b9808807b285ce1",
            "cdd9eaf0503a4d989ffda223e6de82a0",
            "9441feb2ab1c4640bc3494609f4817c8"
          ]
        },
        "id": "rkJWP73E1qRM",
        "outputId": "9738b8a5-b66e-4dd2-8515-bb1c214b513e"
      },
      "execution_count": 3,
      "outputs": [
        {
          "output_type": "stream",
          "name": "stdout",
          "text": [
            "Downloading and preparing dataset 11.06 MiB (download: 11.06 MiB, generated: 21.00 MiB, total: 32.06 MiB) to /root/tensorflow_datasets/mnist/3.0.1...\n"
          ]
        },
        {
          "output_type": "display_data",
          "data": {
            "text/plain": [
              "Dl Completed...:   0%|          | 0/5 [00:00<?, ? file/s]"
            ],
            "application/vnd.jupyter.widget-view+json": {
              "version_major": 2,
              "version_minor": 0,
              "model_id": "6bdca97f1beb4c08b1a61bd59d2b9797"
            }
          },
          "metadata": {}
        },
        {
          "output_type": "stream",
          "name": "stdout",
          "text": [
            "Dataset mnist downloaded and prepared to /root/tensorflow_datasets/mnist/3.0.1. Subsequent calls will reuse this data.\n"
          ]
        }
      ]
    },
    {
      "cell_type": "markdown",
      "source": [
        "## Build the Model\n",
        "\n",
        "You will now build a simple autoencoder to ingest the data. Like before, the encoder will compress the input and reconstructs it in the decoder output."
      ],
      "metadata": {
        "id": "o-524UNq1x4r"
      }
    },
    {
      "cell_type": "code",
      "source": [
        "def simple_autoencoder(inputs):\n",
        "  '''Builds the encoder and decoder using Dense layers.'''\n",
        "  encoder = tf.keras.layers.Dense(units=32, activation='relu')(inputs)\n",
        "  decoder = tf.keras.layers.Dense(units=784, activation='sigmoid')(encoder)\n",
        "\n",
        "  return encoder, decoder\n",
        "\n",
        "# set the input shape\n",
        "inputs = tf.keras.layers.Input(shape=(784,))\n",
        "\n",
        "# get the encoder and decoder output\n",
        "encoder_output, decoder_output = simple_autoencoder(inputs)\n",
        "\n",
        "# setpu the encoder because you will visualize its output later\n",
        "encoder_model = tf.keras.Model(inputs=inputs, outputs=encoder_output)\n",
        "\n",
        "# setup the autoencoder\n",
        "autoencoder_model = tf.keras.Model(inputs=inputs, outputs=decoder_output)"
      ],
      "metadata": {
        "id": "uWl5U9l71u1M"
      },
      "execution_count": 5,
      "outputs": []
    },
    {
      "cell_type": "markdown",
      "source": [
        "## Compile the Model\n",
        "\n",
        "You will setup the model for training. You can use binary crossentropy to measure the loss between pixel values that range from 0 (black) to 1 (white)."
      ],
      "metadata": {
        "id": "76azsUrh2mc_"
      }
    },
    {
      "cell_type": "code",
      "source": [
        "autoencoder_model.compile(\n",
        "    optimizer=tf.keras.optimizers.Adam(),\n",
        "    loss='binary_crossentropy'\n",
        ")"
      ],
      "metadata": {
        "id": "552SeCCY2jHJ"
      },
      "execution_count": 6,
      "outputs": []
    },
    {
      "cell_type": "markdown",
      "source": [
        "## Train the Model"
      ],
      "metadata": {
        "id": "Br9Mjxvc2wY3"
      }
    },
    {
      "cell_type": "code",
      "source": [
        "train_steps = 6000 // BATCH_SIZE\n",
        "simple_auto_history = autoencoder_model.fit(train_dataset, steps_per_epoch=train_steps, epochs=50)"
      ],
      "metadata": {
        "colab": {
          "base_uri": "https://localhost:8080/"
        },
        "id": "GGCXOM1a2vcN",
        "outputId": "fe99aa6d-5909-4e03-ae61-6b5312dda226"
      },
      "execution_count": 8,
      "outputs": [
        {
          "output_type": "stream",
          "name": "stdout",
          "text": [
            "Epoch 1/50\n",
            "46/46 [==============================] - 1s 18ms/step - loss: 0.2704\n",
            "Epoch 2/50\n",
            "46/46 [==============================] - 1s 18ms/step - loss: 0.2426\n",
            "Epoch 3/50\n",
            "46/46 [==============================] - 1s 17ms/step - loss: 0.2184\n",
            "Epoch 4/50\n",
            "46/46 [==============================] - 1s 22ms/step - loss: 0.2025\n",
            "Epoch 5/50\n",
            "46/46 [==============================] - 1s 29ms/step - loss: 0.1901\n",
            "Epoch 6/50\n",
            "46/46 [==============================] - 1s 28ms/step - loss: 0.1811\n",
            "Epoch 7/50\n",
            "46/46 [==============================] - 1s 31ms/step - loss: 0.1737\n",
            "Epoch 8/50\n",
            "46/46 [==============================] - 1s 17ms/step - loss: 0.1676\n",
            "Epoch 9/50\n",
            "46/46 [==============================] - 1s 17ms/step - loss: 0.1608\n",
            "Epoch 10/50\n",
            "46/46 [==============================] - 1s 16ms/step - loss: 0.1576\n",
            "Epoch 11/50\n",
            "46/46 [==============================] - 1s 13ms/step - loss: 0.1522\n",
            "Epoch 12/50\n",
            "46/46 [==============================] - 1s 16ms/step - loss: 0.1492\n",
            "Epoch 13/50\n",
            "46/46 [==============================] - 1s 19ms/step - loss: 0.1431\n",
            "Epoch 14/50\n",
            "46/46 [==============================] - 1s 23ms/step - loss: 0.1414\n",
            "Epoch 15/50\n",
            "46/46 [==============================] - 1s 22ms/step - loss: 0.1384\n",
            "Epoch 16/50\n",
            "46/46 [==============================] - 1s 17ms/step - loss: 0.1364\n",
            "Epoch 17/50\n",
            "46/46 [==============================] - 1s 15ms/step - loss: 0.1329\n",
            "Epoch 18/50\n",
            "46/46 [==============================] - 0s 11ms/step - loss: 0.1314\n",
            "Epoch 19/50\n",
            "46/46 [==============================] - 1s 12ms/step - loss: 0.1289\n",
            "Epoch 20/50\n",
            "46/46 [==============================] - 0s 11ms/step - loss: 0.1272\n",
            "Epoch 21/50\n",
            "46/46 [==============================] - 1s 15ms/step - loss: 0.1248\n",
            "Epoch 22/50\n",
            "46/46 [==============================] - 1s 18ms/step - loss: 0.1240\n",
            "Epoch 23/50\n",
            "46/46 [==============================] - 1s 18ms/step - loss: 0.1201\n",
            "Epoch 24/50\n",
            "46/46 [==============================] - 1s 21ms/step - loss: 0.1196\n",
            "Epoch 25/50\n",
            "46/46 [==============================] - 1s 19ms/step - loss: 0.1184\n",
            "Epoch 26/50\n",
            "46/46 [==============================] - 1s 23ms/step - loss: 0.1172\n",
            "Epoch 27/50\n",
            "46/46 [==============================] - 1s 19ms/step - loss: 0.1160\n",
            "Epoch 28/50\n",
            "46/46 [==============================] - 1s 13ms/step - loss: 0.1147\n",
            "Epoch 29/50\n",
            "46/46 [==============================] - 1s 20ms/step - loss: 0.1140\n",
            "Epoch 30/50\n",
            "46/46 [==============================] - 1s 16ms/step - loss: 0.1125\n",
            "Epoch 31/50\n",
            "46/46 [==============================] - 1s 19ms/step - loss: 0.1119\n",
            "Epoch 32/50\n",
            "46/46 [==============================] - 1s 19ms/step - loss: 0.1113\n",
            "Epoch 33/50\n",
            "46/46 [==============================] - 1s 21ms/step - loss: 0.1089\n",
            "Epoch 34/50\n",
            "46/46 [==============================] - 1s 18ms/step - loss: 0.1077\n",
            "Epoch 35/50\n",
            "46/46 [==============================] - 1s 17ms/step - loss: 0.1083\n",
            "Epoch 36/50\n",
            "46/46 [==============================] - 1s 17ms/step - loss: 0.1067\n",
            "Epoch 37/50\n",
            "46/46 [==============================] - 1s 23ms/step - loss: 0.1062\n",
            "Epoch 38/50\n",
            "46/46 [==============================] - 1s 23ms/step - loss: 0.1057\n",
            "Epoch 39/50\n",
            "46/46 [==============================] - 1s 28ms/step - loss: 0.1052\n",
            "Epoch 40/50\n",
            "46/46 [==============================] - 1s 25ms/step - loss: 0.1041\n",
            "Epoch 41/50\n",
            "46/46 [==============================] - 1s 28ms/step - loss: 0.1037\n",
            "Epoch 42/50\n",
            "46/46 [==============================] - 1s 26ms/step - loss: 0.1034\n",
            "Epoch 43/50\n",
            "46/46 [==============================] - 1s 21ms/step - loss: 0.1024\n",
            "Epoch 44/50\n",
            "46/46 [==============================] - 1s 19ms/step - loss: 0.1006\n",
            "Epoch 45/50\n",
            "46/46 [==============================] - 1s 18ms/step - loss: 0.1018\n",
            "Epoch 46/50\n",
            "46/46 [==============================] - 1s 19ms/step - loss: 0.1004\n",
            "Epoch 47/50\n",
            "46/46 [==============================] - 1s 21ms/step - loss: 0.1004\n",
            "Epoch 48/50\n",
            "46/46 [==============================] - 1s 24ms/step - loss: 0.1000\n",
            "Epoch 49/50\n",
            "46/46 [==============================] - 1s 21ms/step - loss: 0.1002\n",
            "Epoch 50/50\n",
            "46/46 [==============================] - 1s 20ms/step - loss: 0.0985\n"
          ]
        }
      ]
    },
    {
      "cell_type": "markdown",
      "source": [
        "## Display sample results\n",
        "\n",
        "You can now visualize the results. The utility functions below will help in plotting the encoded and decoded values."
      ],
      "metadata": {
        "id": "vqgEvONU3E2T"
      }
    },
    {
      "cell_type": "code",
      "source": [
        "def display_one_row(disp_images, offset, shape=(28, 28)):\n",
        "  '''Display sample outputs in one row.'''\n",
        "  for idx, test_image in enumerate(disp_images):\n",
        "    plt.subplot(3, 10, offset + idx + 1)\n",
        "    plt.xticks([])\n",
        "    plt.yticks([])\n",
        "    test_image = np.reshape(test_image, shape)\n",
        "    plt.imshow(test_image, cmap='gray')\n",
        "\n",
        "\n",
        "def display_results(disp_input_images, disp_encoded, disp_predicted, enc_shape=(8,4)):\n",
        "  '''Displays the input, encoded, and decoded output values.'''\n",
        "  plt.figure(figsize=(15, 5))\n",
        "  display_one_row(disp_input_images, 0, shape=(28,28,))\n",
        "  display_one_row(disp_encoded, 10, shape=enc_shape)\n",
        "  display_one_row(disp_predicted, 20, shape=(28,28,))"
      ],
      "metadata": {
        "id": "cFpk4I7B2_NA"
      },
      "execution_count": 9,
      "outputs": []
    },
    {
      "cell_type": "code",
      "source": [
        "# take 1 batch of the dataset\n",
        "test_dataset = test_dataset.take(1)\n",
        "\n",
        "# take the input images and put them in a list\n",
        "output_samples = []\n",
        "for input_image, image in tfds.as_numpy(test_dataset):\n",
        "      output_samples = input_image\n",
        "\n",
        "# pick 10 random numbers to be used as indices to the list above\n",
        "idxs = np.random.choice(BATCH_SIZE, size=10)\n",
        "\n",
        "# get the encoder output\n",
        "encoded_predicted = encoder_model.predict(test_dataset)\n",
        "\n",
        "# get a prediction for the test batch\n",
        "simple_predicted = autoencoder_model.predict(test_dataset)\n",
        "\n",
        "# display the 10 samples, encodings and decoded values!\n",
        "display_results(output_samples[idxs], encoded_predicted[idxs], simple_predicted[idxs])"
      ],
      "metadata": {
        "colab": {
          "base_uri": "https://localhost:8080/",
          "height": 264
        },
        "id": "c74nj4kD3GjM",
        "outputId": "dbadc6b1-a23e-41ac-a15d-aa7b0545c597"
      },
      "execution_count": 10,
      "outputs": [
        {
          "output_type": "stream",
          "name": "stdout",
          "text": [
            "1/1 [==============================] - 0s 420ms/step\n",
            "1/1 [==============================] - 0s 226ms/step\n"
          ]
        },
        {
          "output_type": "display_data",
          "data": {
            "text/plain": [
              "<Figure size 1500x500 with 30 Axes>"
            ],
            "image/png": "[encoded data removed]"
          },
          "metadata": {}
        }
      ]
    }
  ]
}