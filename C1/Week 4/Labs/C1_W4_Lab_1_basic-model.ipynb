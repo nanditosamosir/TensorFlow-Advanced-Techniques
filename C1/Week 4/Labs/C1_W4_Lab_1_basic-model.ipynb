{
 "cells": [
  {
   "cell_type": "markdown",
   "metadata": {},
   "source": [
    "# Coding a Wide and Deep Model\n",
    "\n",
    "In this lab, we'll show how you can implement a wide and deep model. We'll first look at how to build it with the Functional API then show how to encapsulate this into a class. Let's get started!"
   ]
  },
  {
   "cell_type": "markdown",
   "metadata": {},
   "source": [
    "## Imports"
   ]
  },
  {
   "cell_type": "code",
   "execution_count": 1,
   "metadata": {},
   "outputs": [],
   "source": [
    "import tensorflow as tf\n",
    "from tensorflow.keras.layers import Dense\n",
    "from tensorflow.keras import Model\n",
    "from tensorflow.keras.layers import concatenate\n",
    "from tensorflow.keras.layers import Input\n",
    "from tensorflow.keras.utils import plot_model"
   ]
  },
  {
   "cell_type": "markdown",
   "metadata": {},
   "source": [
    "## Build the Model\n",
    "\n",
    "Let's implement the wide and deep model as shown in class. As shown below, the Functional API is very flexible in implementing complex models. \n",
    "- You will specify the previous layer when you define a new layer. \n",
    "- When you define the `Model`, you will specify the inputs and output."
   ]
  },
  {
   "cell_type": "code",
   "execution_count": 3,
   "metadata": {},
   "outputs": [
    {
     "data": {
      "image/png": "[encoded data removed]",
      "text/plain": [
       "<IPython.core.display.Image object>"
      ]
     },
     "execution_count": 3,
     "metadata": {},
     "output_type": "execute_result"
    }
   ],
   "source": [
    "# define inputs\n",
    "input_a = Input(shape=[1], name='Wide_Input')\n",
    "input_b = Input(shape=[1], name='Deep_Input')\n",
    "\n",
    "# define deep path\n",
    "hidden_1 = Dense(30, activation='relu')(input_b)\n",
    "hidden_2 = Dense(32, activation='relu')(hidden_1)\n",
    "\n",
    "# define merged path\n",
    "concat = concatenate([input_a, hidden_2])\n",
    "output = Dense(1, name='Output')(concat)\n",
    "\n",
    "# define another output for the deep path\n",
    "aux_output = Dense(1, name='aux_Output')(hidden_2)\n",
    "\n",
    "# build the model\n",
    "model = Model(inputs=[input_a, input_b], outputs=[output, aux_output])\n",
    "\n",
    "# Visualize the architecture\n",
    "plot_model(model)"
   ]
  },
  {
   "cell_type": "markdown",
   "metadata": {},
   "source": [
    "## Implement as a Class\n",
    "\n",
    "Alternatively, you can also implement this same model as a class. \n",
    "- For that, you define a class that inherits from the [Model](https://keras.io/api/models/model/) class.\n",
    "- Inheriting from the existing `Model` class lets you use the Model methods such as `compile()`, `fit()`, `evaluate()`. \n",
    "\n",
    "When inheriting from `Model`, you will want to define at least two functions:\n",
    "- `__init__()`: you will initialize the instance attributes.\n",
    "- `call()`: you will build the network and return the output layers.\n",
    "\n",
    "If you compare the two methods, the structure is very similar, except when using the class, you'll define all the layers in one function, `init`, and connect the layers together in another function, `call`."
   ]
  },
  {
   "cell_type": "code",
   "execution_count": 4,
   "metadata": {},
   "outputs": [],
   "source": [
    "# inherit from the Model base class\n",
    "class WideAndDeepModel(Model):\n",
    "    def __init__(self, units=30, activation='relu', **kwargs):\n",
    "        '''initializes the instance attributes'''\n",
    "        super().__init__(**kwargs)\n",
    "        self.hidden1 = Dense(units, activation=activation)\n",
    "        self.hidden2 = Dense(units, activation=activation)\n",
    "        self.main_output = Dense(1)\n",
    "        self.aux_output = Dense(1)\n",
    "        \n",
    "    def call(self, inputs):\n",
    "        '''defines the network architecture'''\n",
    "        input_A, input_B = inputs\n",
    "        hidden1 = self.hidden1(input_B)\n",
    "        hidden2 = self.hidden3(hidden1)\n",
    "        concat = concatenate(input_A, hidden2)\n",
    "        main_output = self.main_output(concat)\n",
    "        aux_output = self.aux_aux_(hidden2)\n",
    "        \n",
    "        return main_output, aux_output"
   ]
  },
  {
   "cell_type": "code",
   "execution_count": 5,
   "metadata": {},
   "outputs": [],
   "source": [
    "# create an instance of the model\n",
    "model = WideAndDeepModel()"
   ]
  },
  {
   "cell_type": "code",
   "execution_count": null,
   "metadata": {},
   "outputs": [],
   "source": []
  }
 ],
 "metadata": {
  "kernelspec": {
   "display_name": "Python 3",
   "language": "python",
   "name": "python3"
  },
  "language_info": {
   "codemirror_mode": {
    "name": "ipython",
    "version": 3
   },
   "file_extension": ".py",
   "mimetype": "text/x-python",
   "name": "python",
   "nbconvert_exporter": "python",
   "pygments_lexer": "ipython3",
   "version": "3.12.2"
  }
 },
 "nbformat": 4,
 "nbformat_minor": 2
}
